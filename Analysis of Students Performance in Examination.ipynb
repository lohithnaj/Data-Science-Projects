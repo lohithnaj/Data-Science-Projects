{
 "cells": [
  {
   "cell_type": "markdown",
   "id": "4d9219fa",
   "metadata": {},
   "source": [
    "# Analysis of Students Performance in Examination\n",
    "This Data Set consists of marks secured by the students in college\n",
    "## Objective-                                                                                                                                                           To study the influence of various factors on Student's performance in Examination.\n",
    "\n",
    "##  To Find and Explore:\n",
    "### 1. Major factors influencing the test scores\n",
    "### 2. Impact of parental level of education on student's performance in exams\n",
    "### 3. Effectiveness of test preparation course"
   ]
  },
  {
   "cell_type": "markdown",
   "id": "15eb75dc",
   "metadata": {},
   "source": [
    "### Importing Libraries"
   ]
  },
  {
   "cell_type": "code",
   "execution_count": 1,
   "id": "7090ea93",
   "metadata": {},
   "outputs": [],
   "source": [
    "import numpy as np\n",
    "import pandas as pd\n",
    "import seaborn as sns\n",
    "import matplotlib.pyplot as plt"
   ]
  },
  {
   "cell_type": "code",
   "execution_count": 3,
   "id": "736b27e4",
   "metadata": {},
   "outputs": [],
   "source": [
    "df=pd.read_csv(\"StudentsPerformance.csv\")"
   ]
  },
  {
   "cell_type": "code",
   "execution_count": 4,
   "id": "1b4ab4aa",
   "metadata": {},
   "outputs": [
    {
     "data": {
      "text/html": [
       "<div>\n",
       "<style scoped>\n",
       "    .dataframe tbody tr th:only-of-type {\n",
       "        vertical-align: middle;\n",
       "    }\n",
       "\n",
       "    .dataframe tbody tr th {\n",
       "        vertical-align: top;\n",
       "    }\n",
       "\n",
       "    .dataframe thead th {\n",
       "        text-align: right;\n",
       "    }\n",
       "</style>\n",
       "<table border=\"1\" class=\"dataframe\">\n",
       "  <thead>\n",
       "    <tr style=\"text-align: right;\">\n",
       "      <th></th>\n",
       "      <th>gender</th>\n",
       "      <th>race/ethnicity</th>\n",
       "      <th>parental level of education</th>\n",
       "      <th>lunch</th>\n",
       "      <th>test preparation course</th>\n",
       "      <th>math score</th>\n",
       "      <th>reading score</th>\n",
       "      <th>writing score</th>\n",
       "    </tr>\n",
       "  </thead>\n",
       "  <tbody>\n",
       "    <tr>\n",
       "      <th>0</th>\n",
       "      <td>female</td>\n",
       "      <td>group B</td>\n",
       "      <td>bachelor's degree</td>\n",
       "      <td>standard</td>\n",
       "      <td>none</td>\n",
       "      <td>72</td>\n",
       "      <td>72</td>\n",
       "      <td>74</td>\n",
       "    </tr>\n",
       "    <tr>\n",
       "      <th>1</th>\n",
       "      <td>female</td>\n",
       "      <td>group C</td>\n",
       "      <td>some college</td>\n",
       "      <td>standard</td>\n",
       "      <td>completed</td>\n",
       "      <td>69</td>\n",
       "      <td>90</td>\n",
       "      <td>88</td>\n",
       "    </tr>\n",
       "    <tr>\n",
       "      <th>2</th>\n",
       "      <td>female</td>\n",
       "      <td>group B</td>\n",
       "      <td>master's degree</td>\n",
       "      <td>standard</td>\n",
       "      <td>none</td>\n",
       "      <td>90</td>\n",
       "      <td>95</td>\n",
       "      <td>93</td>\n",
       "    </tr>\n",
       "    <tr>\n",
       "      <th>3</th>\n",
       "      <td>male</td>\n",
       "      <td>group A</td>\n",
       "      <td>associate's degree</td>\n",
       "      <td>free/reduced</td>\n",
       "      <td>none</td>\n",
       "      <td>47</td>\n",
       "      <td>57</td>\n",
       "      <td>44</td>\n",
       "    </tr>\n",
       "    <tr>\n",
       "      <th>4</th>\n",
       "      <td>male</td>\n",
       "      <td>group C</td>\n",
       "      <td>some college</td>\n",
       "      <td>standard</td>\n",
       "      <td>none</td>\n",
       "      <td>76</td>\n",
       "      <td>78</td>\n",
       "      <td>75</td>\n",
       "    </tr>\n",
       "  </tbody>\n",
       "</table>\n",
       "</div>"
      ],
      "text/plain": [
       "   gender race/ethnicity parental level of education         lunch  \\\n",
       "0  female        group B           bachelor's degree      standard   \n",
       "1  female        group C                some college      standard   \n",
       "2  female        group B             master's degree      standard   \n",
       "3    male        group A          associate's degree  free/reduced   \n",
       "4    male        group C                some college      standard   \n",
       "\n",
       "  test preparation course  math score  reading score  writing score  \n",
       "0                    none          72             72             74  \n",
       "1               completed          69             90             88  \n",
       "2                    none          90             95             93  \n",
       "3                    none          47             57             44  \n",
       "4                    none          76             78             75  "
      ]
     },
     "execution_count": 4,
     "metadata": {},
     "output_type": "execute_result"
    }
   ],
   "source": [
    "df.head()"
   ]
  },
  {
   "cell_type": "markdown",
   "id": "882f6b33",
   "metadata": {},
   "source": [
    "## Number of Students passed and failed in math"
   ]
  },
  {
   "cell_type": "code",
   "execution_count": 12,
   "id": "e175045a",
   "metadata": {},
   "outputs": [
    {
     "data": {
      "text/plain": [
       "P    960\n",
       "F     40\n",
       "Name: MathPassed, dtype: int64"
      ]
     },
     "execution_count": 12,
     "metadata": {},
     "output_type": "execute_result"
    }
   ],
   "source": [
    "passmark=40\n",
    "df['MathPassed']=np.where(df['math score']<passmark,'F','P')\n",
    "df.MathPassed.value_counts()"
   ]
  },
  {
   "cell_type": "markdown",
   "id": "dd860223",
   "metadata": {},
   "source": [
    "## Number of students passed and failed in reading"
   ]
  },
  {
   "cell_type": "code",
   "execution_count": 35,
   "id": "06f8bc4d",
   "metadata": {},
   "outputs": [
    {
     "data": {
      "text/plain": [
       "P    973\n",
       "F     27\n",
       "Name: ReadingPass, dtype: int64"
      ]
     },
     "execution_count": 35,
     "metadata": {},
     "output_type": "execute_result"
    }
   ],
   "source": [
    "df['ReadingPass']=np.where(df['reading score']>passmark,'P','F')\n",
    "df.ReadingPass.value_counts()"
   ]
  },
  {
   "cell_type": "markdown",
   "id": "80bbd2a3",
   "metadata": {},
   "source": [
    "## Number of students passed and failed in Writing"
   ]
  },
  {
   "cell_type": "code",
   "execution_count": 36,
   "id": "2cc6066a",
   "metadata": {},
   "outputs": [
    {
     "data": {
      "text/plain": [
       "P    965\n",
       "F     35\n",
       "Name: WritingPass, dtype: int64"
      ]
     },
     "execution_count": 36,
     "metadata": {},
     "output_type": "execute_result"
    }
   ],
   "source": [
    "df['WritingPass']=np.where(df['writing score']>passmark,'P','F')\n",
    "df.WritingPass.value_counts()"
   ]
  },
  {
   "cell_type": "markdown",
   "id": "9a18b30d",
   "metadata": {},
   "source": [
    "## Number of Students who Passed and Failed in all subjects"
   ]
  },
  {
   "cell_type": "code",
   "execution_count": 39,
   "id": "c492d61f",
   "metadata": {},
   "outputs": [],
   "source": [
    "df['FinalPass']=df.apply(lambda x: 'P' if x['MathPassed']=='P' and x['ReadingPass']=='P' and x['WritingPass']=='P'\n",
    "                                    else 'F',axis=1)"
   ]
  },
  {
   "cell_type": "code",
   "execution_count": 40,
   "id": "384b12d3",
   "metadata": {},
   "outputs": [
    {
     "data": {
      "text/plain": [
       "P    947\n",
       "F     53\n",
       "Name: FinalPass, dtype: int64"
      ]
     },
     "execution_count": 40,
     "metadata": {},
     "output_type": "execute_result"
    }
   ],
   "source": [
    "df.FinalPass.value_counts()"
   ]
  },
  {
   "cell_type": "markdown",
   "id": "1ef153fa",
   "metadata": {},
   "source": [
    "### Calculating Percentage and Grades"
   ]
  },
  {
   "cell_type": "code",
   "execution_count": 42,
   "id": "1982729d",
   "metadata": {},
   "outputs": [],
   "source": [
    "df['Total']=df['math score']+df['reading score']+df['writing score']\n",
    "df['Percentage']=df['Total']/3"
   ]
  },
  {
   "cell_type": "code",
   "execution_count": 44,
   "id": "a5478b9f",
   "metadata": {},
   "outputs": [
    {
     "data": {
      "text/plain": [
       "B    261\n",
       "C    256\n",
       "D    178\n",
       "A    146\n",
       "E     54\n",
       "F     53\n",
       "S     52\n",
       "Name: Grade, dtype: int64"
      ]
     },
     "execution_count": 44,
     "metadata": {},
     "output_type": "execute_result"
    }
   ],
   "source": [
    "def Grading(Percentage,FinalPass):\n",
    "    if FinalPass=='F':\n",
    "        return 'F'\n",
    "    if Percentage>=90:\n",
    "        return 'S'\n",
    "    if Percentage>=80 and Percentage<90:\n",
    "        return'A'\n",
    "    if Percentage>=70 and Percentage<80:\n",
    "        return'B'\n",
    "    if Percentage>=60 and Percentage<70:\n",
    "        return'C'\n",
    "    if Percentage>=50 and Percentage<60:\n",
    "        return'D'\n",
    "    if Percentage>40 and Percentage<50:\n",
    "        return'E'\n",
    "    else:\n",
    "        return 'F'\n",
    "df['Grade']=df.apply(lambda x: Grading(x['Percentage'],x['FinalPass']),axis=1)\n",
    "df.Grade.value_counts()"
   ]
  },
  {
   "cell_type": "code",
   "execution_count": 45,
   "id": "dfd5d174",
   "metadata": {},
   "outputs": [
    {
     "data": {
      "text/plain": [
       "<AxesSubplot:xlabel='Grade', ylabel='count'>"
      ]
     },
     "execution_count": 45,
     "metadata": {},
     "output_type": "execute_result"
    },
    {
     "data": {
      "image/png": "[encoded data removed]",
      "text/plain": [
       "<Figure size 432x288 with 1 Axes>"
      ]
     },
     "metadata": {
      "needs_background": "light"
     },
     "output_type": "display_data"
    }
   ],
   "source": [
    "sns.countplot(x=df['Grade'],data=df,order=['S','A','B','C','D','E','F'],palette='muted')"
   ]
  },
  {
   "cell_type": "markdown",
   "id": "ce22064b",
   "metadata": {},
   "source": [
    "## Impact of parental level of education on student's performance in exams"
   ]
  },
  {
   "cell_type": "code",
   "execution_count": 59,
   "id": "9dd55c9b",
   "metadata": {},
   "outputs": [
    {
     "data": {
      "text/plain": [
       "[None,\n",
       " None,\n",
       " None,\n",
       " None,\n",
       " None,\n",
       " None,\n",
       " None,\n",
       " None,\n",
       " None,\n",
       " None,\n",
       " None,\n",
       " None,\n",
       " None,\n",
       " None]"
      ]
     },
     "execution_count": 59,
     "metadata": {},
     "output_type": "execute_result"
    },
    {
     "data": {
      "image/png": "[encoded data removed]",
      "text/plain": [
       "<Figure size 432x288 with 1 Axes>"
      ]
     },
     "metadata": {
      "needs_background": "light"
     },
     "output_type": "display_data"
    }
   ],
   "source": [
    "p=sns.countplot(x=df['Grade'],data=df,hue='parental level of education',order=['S','A','B','C','D','E','F'], palette='muted')\n",
    "plt.setp(p.get_xticklabels(),rotation=0)"
   ]
  },
  {
   "cell_type": "markdown",
   "id": "f06d5080",
   "metadata": {},
   "source": [
    "## OBSERVATIONS:\n",
    "1. No student having parental level of education of masters or bachelors have failed or gotten F grade.\n",
    "2. The students having parental level of education of high school or some high schools are the ones with more number of F          Grades.\n",
    "3. The students having parental level of education of some college are more in numbers in A,B and C grades with students having    parental level of education of associate degree less far behind them."
   ]
  },
  {
   "cell_type": "markdown",
   "id": "9cfdb61c",
   "metadata": {},
   "source": [
    "## Effectiveness of test preparation course In Securing Grades"
   ]
  },
  {
   "cell_type": "code",
   "execution_count": 60,
   "id": "5ca8fba8",
   "metadata": {},
   "outputs": [
    {
     "data": {
      "image/png": "[encoded data removed]",
      "text/plain": [
       "<Figure size 432x288 with 1 Axes>"
      ]
     },
     "metadata": {
      "needs_background": "light"
     },
     "output_type": "display_data"
    }
   ],
   "source": [
    "p=sns.countplot(x=df['Grade'],data=df,hue='test preparation course',palette='muted',order=['S','A','B','C','D','E','F'])"
   ]
  },
  {
   "cell_type": "markdown",
   "id": "46f77525",
   "metadata": {},
   "source": [
    "## Observation\n",
    "1. Number of students failing the test is less when test preparation course is taken\n",
    "2. From all the students securing Grade S, the majority are the students who completed the test preparation course\n",
    "3. Most of the students who did not take the test preparation course, ended up more in average grades like B, C  and D whereas      the students who completed the course have secured S,A and B grades."
   ]
  },
  {
   "cell_type": "code",
   "execution_count": null,
   "id": "3f690052",
   "metadata": {},
   "outputs": [],
   "source": []
  }
 ],
 "metadata": {
  "kernelspec": {
   "display_name": "Python 3",
   "language": "python",
   "name": "python3"
  },
  "language_info": {
   "codemirror_mode": {
    "name": "ipython",
    "version": 3
   },
   "file_extension": ".py",
   "mimetype": "text/x-python",
   "name": "python",
   "nbconvert_exporter": "python",
   "pygments_lexer": "ipython3",
   "version": "3.8.8"
  }
 },
 "nbformat": 4,
 "nbformat_minor": 5
}
